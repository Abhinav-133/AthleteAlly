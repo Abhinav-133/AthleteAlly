{
 "cells": [
  {
   "cell_type": "code",
   "execution_count": null,
   "metadata": {},
   "outputs": [
    {
     "ename": "",
     "evalue": "",
     "output_type": "error",
     "traceback": [
      "\u001b[1;31mRunning cells with 'Python 3.12.4' requires the ipykernel package.\n",
      "\u001b[1;31mRun the following command to install 'ipykernel' into the Python environment. \n",
      "\u001b[1;31mCommand: 'c:/Users/hp/AppData/Local/Programs/Python/Python312/python.exe -m pip install ipykernel -U --user --force-reinstall'"
     ]
    }
   ],
   "source": [
    "import pandas as pd\n",
    "import pickle\n",
    "from sklearn.preprocessing import StandardScaler\n",
    "from sklearn.model_selection import train_test_split\n",
    "from sklearn.metrics import accuracy_score, classification_report\n",
    "from sklearn.tree import DecisionTreeClassifier\n",
    "from imblearn.over_sampling import SMOTE\n",
    "\n",
    "DATA_FILE_PATH = \"E:/ml-p/Sports-Injury-Analysis/Injury-Predictor-Analysis/final_data.csv\"\n",
    "MODEL_FILE_PATH = \"E:/ml-p/Sports-Injury-Analysis/Injury-Predictor-Analysis/model/model.pkl\"\n",
    "SCALER_FILE_PATH = \"E:/ml-p/Sports-Injury-Analysis/Injury-Predictor-Analysis/model/scaler.pkl\"\n",
    "def get_clean_data():\n",
    "    try:\n",
    "        data = pd.read_csv(DATA_FILE_PATH)\n",
    "        print(\"Data loaded successfully.\")\n",
    "        return data\n",
    "    except FileNotFoundError:\n",
    "        print(f\"Error: The file at {DATA_FILE_PATH} was not found.\")\n",
    "        return None\n",
    "    except pd.errors.EmptyDataError:\n",
    "        print(\"Error: The CSV file is empty.\")\n",
    "        return None\n",
    "    except pd.errors.ParserError:\n",
    "        print(\"Error: The CSV file is corrupted or incorrectly formatted.\")\n",
    "        return None\n",
    "\n",
    "def create_model(data):\n",
    "    X = data.iloc[:, 1:5].values  \n",
    "    y = data['injury'].values\n",
    "    \n",
    "    oversample = SMOTE()\n",
    "    X_resampled, y_resampled = oversample.fit_resample(X, y)\n",
    "\n",
    "    scaler = StandardScaler()\n",
    "    X_resampled = scaler.fit_transform(X_resampled)\n",
    "\n",
    "    X_train, X_test, y_train, y_test = train_test_split(X_resampled, y_resampled, test_size=0.3, random_state=0)\n",
    "\n",
    "    model = DecisionTreeClassifier(max_depth=5, min_samples_split=10, random_state=0)  # Tuning parameters\n",
    "    model.fit(X_train, y_train)\n",
    "\n",
    "    y_pred = model.predict(X_test)\n",
    "    print(\"Model Accuracy:\", accuracy_score(y_test, y_pred))\n",
    "    print(\"Classification Report:\\n\", classification_report(y_test, y_pred))\n",
    "\n",
    "    return model, scaler\n",
    "\n",
    "def main():\n",
    "    data = get_clean_data()\n",
    "    if data is None:\n",
    "        return  \n",
    "\n",
    "    model, scaler = create_model(data)\n",
    "\n",
    "    try:\n",
    "        with open(MODEL_FILE_PATH, 'wb') as model_file:\n",
    "            pickle.dump(model, model_file)\n",
    "        print(f\"Model saved to {MODEL_FILE_PATH}\")\n",
    "        \n",
    "        with open(SCALER_FILE_PATH, 'wb') as scaler_file:\n",
    "            pickle.dump(scaler, scaler_file)\n",
    "        print(f\"Scaler saved to {SCALER_FILE_PATH}\")\n",
    "    except Exception as e:\n",
    "        print(f\"Error saving model or scaler: {e}\")\n",
    "\n",
    "    print(\"\\nSample Data Overview:\")\n",
    "    print(data.head())\n",
    "\n",
    "if __name__ == \"__main__\":\n",
    "    main()\n"
   ]
  },
  {
   "cell_type": "code",
   "execution_count": null,
   "metadata": {},
   "outputs": [],
   "source": []
  }
 ],
 "metadata": {
  "kernelspec": {
   "display_name": "Python 3",
   "language": "python",
   "name": "python3"
  },
  "language_info": {
   "codemirror_mode": {
    "name": "ipython",
    "version": 3
   },
   "file_extension": ".py",
   "mimetype": "text/x-python",
   "name": "python",
   "nbconvert_exporter": "python",
   "pygments_lexer": "ipython3",
   "version": "3.12.4"
  }
 },
 "nbformat": 4,
 "nbformat_minor": 2
}
