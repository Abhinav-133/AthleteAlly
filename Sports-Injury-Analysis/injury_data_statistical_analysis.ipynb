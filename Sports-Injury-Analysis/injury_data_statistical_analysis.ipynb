{
 "cells": [
  {
   "cell_type": "code",
   "execution_count": 1,
   "metadata": {},
   "outputs": [],
   "source": [
    "import pandas as pd\n",
    "import numpy as np\n",
    "import matplotlib.pyplot as plt"
   ]
  },
  {
   "cell_type": "markdown",
   "metadata": {},
   "source": [
    "<h2>Data Pre- Processing</h2>"
   ]
  },
  {
   "cell_type": "code",
   "execution_count": 2,
   "metadata": {},
   "outputs": [],
   "source": [
    "metrics = pd.read_csv(\"metrics.csv\")"
   ]
  },
  {
   "cell_type": "code",
   "execution_count": 3,
   "metadata": {},
   "outputs": [
    {
     "data": {
      "text/html": [
       "<div>\n",
       "<style scoped>\n",
       "    .dataframe tbody tr th:only-of-type {\n",
       "        vertical-align: middle;\n",
       "    }\n",
       "\n",
       "    .dataframe tbody tr th {\n",
       "        vertical-align: top;\n",
       "    }\n",
       "\n",
       "    .dataframe thead th {\n",
       "        text-align: right;\n",
       "    }\n",
       "</style>\n",
       "<table border=\"1\" class=\"dataframe\">\n",
       "  <thead>\n",
       "    <tr style=\"text-align: right;\">\n",
       "      <th></th>\n",
       "      <th>athlete_id</th>\n",
       "      <th>date</th>\n",
       "      <th>metric</th>\n",
       "      <th>value</th>\n",
       "    </tr>\n",
       "  </thead>\n",
       "  <tbody>\n",
       "    <tr>\n",
       "      <th>0</th>\n",
       "      <td>1</td>\n",
       "      <td>2016-05-01</td>\n",
       "      <td>hip_mobility</td>\n",
       "      <td>36</td>\n",
       "    </tr>\n",
       "    <tr>\n",
       "      <th>1</th>\n",
       "      <td>1</td>\n",
       "      <td>2016-05-02</td>\n",
       "      <td>hip_mobility</td>\n",
       "      <td>36</td>\n",
       "    </tr>\n",
       "    <tr>\n",
       "      <th>2</th>\n",
       "      <td>1</td>\n",
       "      <td>2016-05-03</td>\n",
       "      <td>hip_mobility</td>\n",
       "      <td>56</td>\n",
       "    </tr>\n",
       "    <tr>\n",
       "      <th>3</th>\n",
       "      <td>1</td>\n",
       "      <td>2016-05-04</td>\n",
       "      <td>hip_mobility</td>\n",
       "      <td>24</td>\n",
       "    </tr>\n",
       "    <tr>\n",
       "      <th>4</th>\n",
       "      <td>1</td>\n",
       "      <td>2016-05-05</td>\n",
       "      <td>hip_mobility</td>\n",
       "      <td>35</td>\n",
       "    </tr>\n",
       "  </tbody>\n",
       "</table>\n",
       "</div>"
      ],
      "text/plain": [
       "   athlete_id        date        metric  value\n",
       "0           1  2016-05-01  hip_mobility     36\n",
       "1           1  2016-05-02  hip_mobility     36\n",
       "2           1  2016-05-03  hip_mobility     56\n",
       "3           1  2016-05-04  hip_mobility     24\n",
       "4           1  2016-05-05  hip_mobility     35"
      ]
     },
     "execution_count": 3,
     "metadata": {},
     "output_type": "execute_result"
    }
   ],
   "source": [
    "metrics.head()"
   ]
  },
  {
   "cell_type": "code",
   "execution_count": 4,
   "metadata": {},
   "outputs": [
    {
     "data": {
      "text/html": [
       "<div>\n",
       "<style scoped>\n",
       "    .dataframe tbody tr th:only-of-type {\n",
       "        vertical-align: middle;\n",
       "    }\n",
       "\n",
       "    .dataframe tbody tr th {\n",
       "        vertical-align: top;\n",
       "    }\n",
       "\n",
       "    .dataframe thead th {\n",
       "        text-align: right;\n",
       "    }\n",
       "</style>\n",
       "<table border=\"1\" class=\"dataframe\">\n",
       "  <thead>\n",
       "    <tr style=\"text-align: right;\">\n",
       "      <th></th>\n",
       "      <th>athlete_id</th>\n",
       "      <th>date</th>\n",
       "      <th>metric</th>\n",
       "      <th>value</th>\n",
       "    </tr>\n",
       "  </thead>\n",
       "  <tbody>\n",
       "    <tr>\n",
       "      <th>count</th>\n",
       "      <td>43800.00000</td>\n",
       "      <td>43800</td>\n",
       "      <td>43800</td>\n",
       "      <td>43800.000000</td>\n",
       "    </tr>\n",
       "    <tr>\n",
       "      <th>unique</th>\n",
       "      <td>NaN</td>\n",
       "      <td>730</td>\n",
       "      <td>2</td>\n",
       "      <td>NaN</td>\n",
       "    </tr>\n",
       "    <tr>\n",
       "      <th>top</th>\n",
       "      <td>NaN</td>\n",
       "      <td>2016-05-01</td>\n",
       "      <td>hip_mobility</td>\n",
       "      <td>NaN</td>\n",
       "    </tr>\n",
       "    <tr>\n",
       "      <th>freq</th>\n",
       "      <td>NaN</td>\n",
       "      <td>60</td>\n",
       "      <td>21900</td>\n",
       "      <td>NaN</td>\n",
       "    </tr>\n",
       "    <tr>\n",
       "      <th>mean</th>\n",
       "      <td>15.50000</td>\n",
       "      <td>NaN</td>\n",
       "      <td>NaN</td>\n",
       "      <td>124.974338</td>\n",
       "    </tr>\n",
       "    <tr>\n",
       "      <th>std</th>\n",
       "      <td>8.65554</td>\n",
       "      <td>NaN</td>\n",
       "      <td>NaN</td>\n",
       "      <td>107.841666</td>\n",
       "    </tr>\n",
       "    <tr>\n",
       "      <th>min</th>\n",
       "      <td>1.00000</td>\n",
       "      <td>NaN</td>\n",
       "      <td>NaN</td>\n",
       "      <td>-108.000000</td>\n",
       "    </tr>\n",
       "    <tr>\n",
       "      <th>25%</th>\n",
       "      <td>8.00000</td>\n",
       "      <td>NaN</td>\n",
       "      <td>NaN</td>\n",
       "      <td>39.000000</td>\n",
       "    </tr>\n",
       "    <tr>\n",
       "      <th>50%</th>\n",
       "      <td>15.50000</td>\n",
       "      <td>NaN</td>\n",
       "      <td>NaN</td>\n",
       "      <td>56.000000</td>\n",
       "    </tr>\n",
       "    <tr>\n",
       "      <th>75%</th>\n",
       "      <td>23.00000</td>\n",
       "      <td>NaN</td>\n",
       "      <td>NaN</td>\n",
       "      <td>213.000000</td>\n",
       "    </tr>\n",
       "    <tr>\n",
       "      <th>max</th>\n",
       "      <td>30.00000</td>\n",
       "      <td>NaN</td>\n",
       "      <td>NaN</td>\n",
       "      <td>487.000000</td>\n",
       "    </tr>\n",
       "  </tbody>\n",
       "</table>\n",
       "</div>"
      ],
      "text/plain": [
       "         athlete_id        date        metric         value\n",
       "count   43800.00000       43800         43800  43800.000000\n",
       "unique          NaN         730             2           NaN\n",
       "top             NaN  2016-05-01  hip_mobility           NaN\n",
       "freq            NaN          60         21900           NaN\n",
       "mean       15.50000         NaN           NaN    124.974338\n",
       "std         8.65554         NaN           NaN    107.841666\n",
       "min         1.00000         NaN           NaN   -108.000000\n",
       "25%         8.00000         NaN           NaN     39.000000\n",
       "50%        15.50000         NaN           NaN     56.000000\n",
       "75%        23.00000         NaN           NaN    213.000000\n",
       "max        30.00000         NaN           NaN    487.000000"
      ]
     },
     "execution_count": 4,
     "metadata": {},
     "output_type": "execute_result"
    }
   ],
   "source": [
    "metrics.describe(include='all')"
   ]
  },
  {
   "cell_type": "code",
   "execution_count": 5,
   "metadata": {},
   "outputs": [
    {
     "data": {
      "text/plain": [
       "athlete_id     int64\n",
       "date          object\n",
       "metric        object\n",
       "value          int64\n",
       "dtype: object"
      ]
     },
     "execution_count": 5,
     "metadata": {},
     "output_type": "execute_result"
    }
   ],
   "source": [
    "metrics.dtypes"
   ]
  },
  {
   "cell_type": "code",
   "execution_count": 6,
   "metadata": {},
   "outputs": [
    {
     "data": {
      "text/plain": [
       "athlete_id             int64\n",
       "date          datetime64[ns]\n",
       "metric                object\n",
       "value                  int64\n",
       "dtype: object"
      ]
     },
     "execution_count": 6,
     "metadata": {},
     "output_type": "execute_result"
    }
   ],
   "source": [
    "metrics['date'] = metrics['date'].astype('datetime64[ns]')\n",
    "metrics.dtypes"
   ]
  },
  {
   "cell_type": "code",
   "execution_count": 7,
   "metadata": {},
   "outputs": [],
   "source": [
    "workload = pd.read_csv(\"game_workload.csv\")"
   ]
  },
  {
   "cell_type": "code",
   "execution_count": 8,
   "metadata": {},
   "outputs": [
    {
     "data": {
      "text/html": [
       "<div>\n",
       "<style scoped>\n",
       "    .dataframe tbody tr th:only-of-type {\n",
       "        vertical-align: middle;\n",
       "    }\n",
       "\n",
       "    .dataframe tbody tr th {\n",
       "        vertical-align: top;\n",
       "    }\n",
       "\n",
       "    .dataframe thead th {\n",
       "        text-align: right;\n",
       "    }\n",
       "</style>\n",
       "<table border=\"1\" class=\"dataframe\">\n",
       "  <thead>\n",
       "    <tr style=\"text-align: right;\">\n",
       "      <th></th>\n",
       "      <th>athlete_id</th>\n",
       "      <th>date</th>\n",
       "      <th>game_workload</th>\n",
       "    </tr>\n",
       "  </thead>\n",
       "  <tbody>\n",
       "    <tr>\n",
       "      <th>0</th>\n",
       "      <td>1</td>\n",
       "      <td>2016-05-05</td>\n",
       "      <td>402</td>\n",
       "    </tr>\n",
       "    <tr>\n",
       "      <th>1</th>\n",
       "      <td>1</td>\n",
       "      <td>2016-05-08</td>\n",
       "      <td>365</td>\n",
       "    </tr>\n",
       "    <tr>\n",
       "      <th>2</th>\n",
       "      <td>1</td>\n",
       "      <td>2016-05-11</td>\n",
       "      <td>457</td>\n",
       "    </tr>\n",
       "    <tr>\n",
       "      <th>3</th>\n",
       "      <td>1</td>\n",
       "      <td>2016-05-16</td>\n",
       "      <td>405</td>\n",
       "    </tr>\n",
       "    <tr>\n",
       "      <th>4</th>\n",
       "      <td>1</td>\n",
       "      <td>2016-05-20</td>\n",
       "      <td>407</td>\n",
       "    </tr>\n",
       "  </tbody>\n",
       "</table>\n",
       "</div>"
      ],
      "text/plain": [
       "   athlete_id        date  game_workload\n",
       "0           1  2016-05-05            402\n",
       "1           1  2016-05-08            365\n",
       "2           1  2016-05-11            457\n",
       "3           1  2016-05-16            405\n",
       "4           1  2016-05-20            407"
      ]
     },
     "execution_count": 8,
     "metadata": {},
     "output_type": "execute_result"
    }
   ],
   "source": [
    "workload.head()"
   ]
  },
  {
   "cell_type": "code",
   "execution_count": 9,
   "metadata": {},
   "outputs": [
    {
     "data": {
      "text/html": [
       "<div>\n",
       "<style scoped>\n",
       "    .dataframe tbody tr th:only-of-type {\n",
       "        vertical-align: middle;\n",
       "    }\n",
       "\n",
       "    .dataframe tbody tr th {\n",
       "        vertical-align: top;\n",
       "    }\n",
       "\n",
       "    .dataframe thead th {\n",
       "        text-align: right;\n",
       "    }\n",
       "</style>\n",
       "<table border=\"1\" class=\"dataframe\">\n",
       "  <thead>\n",
       "    <tr style=\"text-align: right;\">\n",
       "      <th></th>\n",
       "      <th>athlete_id</th>\n",
       "      <th>date</th>\n",
       "      <th>game_workload</th>\n",
       "    </tr>\n",
       "  </thead>\n",
       "  <tbody>\n",
       "    <tr>\n",
       "      <th>count</th>\n",
       "      <td>2400.000000</td>\n",
       "      <td>2400</td>\n",
       "      <td>2400.000000</td>\n",
       "    </tr>\n",
       "    <tr>\n",
       "      <th>unique</th>\n",
       "      <td>NaN</td>\n",
       "      <td>706</td>\n",
       "      <td>NaN</td>\n",
       "    </tr>\n",
       "    <tr>\n",
       "      <th>top</th>\n",
       "      <td>NaN</td>\n",
       "      <td>2017-05-22</td>\n",
       "      <td>NaN</td>\n",
       "    </tr>\n",
       "    <tr>\n",
       "      <th>freq</th>\n",
       "      <td>NaN</td>\n",
       "      <td>9</td>\n",
       "      <td>NaN</td>\n",
       "    </tr>\n",
       "    <tr>\n",
       "      <th>mean</th>\n",
       "      <td>15.649167</td>\n",
       "      <td>NaN</td>\n",
       "      <td>400.481667</td>\n",
       "    </tr>\n",
       "    <tr>\n",
       "      <th>std</th>\n",
       "      <td>8.735438</td>\n",
       "      <td>NaN</td>\n",
       "      <td>47.991824</td>\n",
       "    </tr>\n",
       "    <tr>\n",
       "      <th>min</th>\n",
       "      <td>1.000000</td>\n",
       "      <td>NaN</td>\n",
       "      <td>225.000000</td>\n",
       "    </tr>\n",
       "    <tr>\n",
       "      <th>25%</th>\n",
       "      <td>8.000000</td>\n",
       "      <td>NaN</td>\n",
       "      <td>368.000000</td>\n",
       "    </tr>\n",
       "    <tr>\n",
       "      <th>50%</th>\n",
       "      <td>16.000000</td>\n",
       "      <td>NaN</td>\n",
       "      <td>400.000000</td>\n",
       "    </tr>\n",
       "    <tr>\n",
       "      <th>75%</th>\n",
       "      <td>23.000000</td>\n",
       "      <td>NaN</td>\n",
       "      <td>433.250000</td>\n",
       "    </tr>\n",
       "    <tr>\n",
       "      <th>max</th>\n",
       "      <td>30.000000</td>\n",
       "      <td>NaN</td>\n",
       "      <td>534.000000</td>\n",
       "    </tr>\n",
       "  </tbody>\n",
       "</table>\n",
       "</div>"
      ],
      "text/plain": [
       "         athlete_id        date  game_workload\n",
       "count   2400.000000        2400    2400.000000\n",
       "unique          NaN         706            NaN\n",
       "top             NaN  2017-05-22            NaN\n",
       "freq            NaN           9            NaN\n",
       "mean      15.649167         NaN     400.481667\n",
       "std        8.735438         NaN      47.991824\n",
       "min        1.000000         NaN     225.000000\n",
       "25%        8.000000         NaN     368.000000\n",
       "50%       16.000000         NaN     400.000000\n",
       "75%       23.000000         NaN     433.250000\n",
       "max       30.000000         NaN     534.000000"
      ]
     },
     "execution_count": 9,
     "metadata": {},
     "output_type": "execute_result"
    }
   ],
   "source": [
    "workload.describe(include='all')"
   ]
  },
  {
   "cell_type": "code",
   "execution_count": 10,
   "metadata": {},
   "outputs": [
    {
     "data": {
      "text/plain": [
       "athlete_id                int64\n",
       "date             datetime64[ns]\n",
       "game_workload             int64\n",
       "dtype: object"
      ]
     },
     "execution_count": 10,
     "metadata": {},
     "output_type": "execute_result"
    }
   ],
   "source": [
    "workload['date'] = workload['date'].astype('datetime64[ns]')\n",
    "workload.dtypes"
   ]
  },
  {
   "cell_type": "code",
   "execution_count": 11,
   "metadata": {},
   "outputs": [],
   "source": [
    "injuries = pd.read_csv(\"injuries.csv\")"
   ]
  },
  {
   "cell_type": "code",
   "execution_count": 12,
   "metadata": {},
   "outputs": [
    {
     "data": {
      "text/html": [
       "<div>\n",
       "<style scoped>\n",
       "    .dataframe tbody tr th:only-of-type {\n",
       "        vertical-align: middle;\n",
       "    }\n",
       "\n",
       "    .dataframe tbody tr th {\n",
       "        vertical-align: top;\n",
       "    }\n",
       "\n",
       "    .dataframe thead th {\n",
       "        text-align: right;\n",
       "    }\n",
       "</style>\n",
       "<table border=\"1\" class=\"dataframe\">\n",
       "  <thead>\n",
       "    <tr style=\"text-align: right;\">\n",
       "      <th></th>\n",
       "      <th>athlete_id</th>\n",
       "      <th>date</th>\n",
       "    </tr>\n",
       "  </thead>\n",
       "  <tbody>\n",
       "    <tr>\n",
       "      <th>0</th>\n",
       "      <td>1</td>\n",
       "      <td>2016-05-11</td>\n",
       "    </tr>\n",
       "    <tr>\n",
       "      <th>1</th>\n",
       "      <td>1</td>\n",
       "      <td>2016-05-16</td>\n",
       "    </tr>\n",
       "    <tr>\n",
       "      <th>2</th>\n",
       "      <td>1</td>\n",
       "      <td>2016-07-28</td>\n",
       "    </tr>\n",
       "    <tr>\n",
       "      <th>3</th>\n",
       "      <td>1</td>\n",
       "      <td>2016-11-11</td>\n",
       "    </tr>\n",
       "    <tr>\n",
       "      <th>4</th>\n",
       "      <td>1</td>\n",
       "      <td>2016-12-16</td>\n",
       "    </tr>\n",
       "  </tbody>\n",
       "</table>\n",
       "</div>"
      ],
      "text/plain": [
       "   athlete_id        date\n",
       "0           1  2016-05-11\n",
       "1           1  2016-05-16\n",
       "2           1  2016-07-28\n",
       "3           1  2016-11-11\n",
       "4           1  2016-12-16"
      ]
     },
     "execution_count": 12,
     "metadata": {},
     "output_type": "execute_result"
    }
   ],
   "source": [
    "injuries.head()"
   ]
  },
  {
   "cell_type": "code",
   "execution_count": 13,
   "metadata": {},
   "outputs": [
    {
     "data": {
      "text/html": [
       "<div>\n",
       "<style scoped>\n",
       "    .dataframe tbody tr th:only-of-type {\n",
       "        vertical-align: middle;\n",
       "    }\n",
       "\n",
       "    .dataframe tbody tr th {\n",
       "        vertical-align: top;\n",
       "    }\n",
       "\n",
       "    .dataframe thead th {\n",
       "        text-align: right;\n",
       "    }\n",
       "</style>\n",
       "<table border=\"1\" class=\"dataframe\">\n",
       "  <thead>\n",
       "    <tr style=\"text-align: right;\">\n",
       "      <th></th>\n",
       "      <th>athlete_id</th>\n",
       "      <th>date</th>\n",
       "    </tr>\n",
       "  </thead>\n",
       "  <tbody>\n",
       "    <tr>\n",
       "      <th>count</th>\n",
       "      <td>137.000000</td>\n",
       "      <td>137</td>\n",
       "    </tr>\n",
       "    <tr>\n",
       "      <th>unique</th>\n",
       "      <td>NaN</td>\n",
       "      <td>126</td>\n",
       "    </tr>\n",
       "    <tr>\n",
       "      <th>top</th>\n",
       "      <td>NaN</td>\n",
       "      <td>2016-05-16</td>\n",
       "    </tr>\n",
       "    <tr>\n",
       "      <th>freq</th>\n",
       "      <td>NaN</td>\n",
       "      <td>4</td>\n",
       "    </tr>\n",
       "    <tr>\n",
       "      <th>mean</th>\n",
       "      <td>15.605839</td>\n",
       "      <td>NaN</td>\n",
       "    </tr>\n",
       "    <tr>\n",
       "      <th>std</th>\n",
       "      <td>9.653068</td>\n",
       "      <td>NaN</td>\n",
       "    </tr>\n",
       "    <tr>\n",
       "      <th>min</th>\n",
       "      <td>1.000000</td>\n",
       "      <td>NaN</td>\n",
       "    </tr>\n",
       "    <tr>\n",
       "      <th>25%</th>\n",
       "      <td>6.000000</td>\n",
       "      <td>NaN</td>\n",
       "    </tr>\n",
       "    <tr>\n",
       "      <th>50%</th>\n",
       "      <td>18.000000</td>\n",
       "      <td>NaN</td>\n",
       "    </tr>\n",
       "    <tr>\n",
       "      <th>75%</th>\n",
       "      <td>24.000000</td>\n",
       "      <td>NaN</td>\n",
       "    </tr>\n",
       "    <tr>\n",
       "      <th>max</th>\n",
       "      <td>30.000000</td>\n",
       "      <td>NaN</td>\n",
       "    </tr>\n",
       "  </tbody>\n",
       "</table>\n",
       "</div>"
      ],
      "text/plain": [
       "        athlete_id        date\n",
       "count   137.000000         137\n",
       "unique         NaN         126\n",
       "top            NaN  2016-05-16\n",
       "freq           NaN           4\n",
       "mean     15.605839         NaN\n",
       "std       9.653068         NaN\n",
       "min       1.000000         NaN\n",
       "25%       6.000000         NaN\n",
       "50%      18.000000         NaN\n",
       "75%      24.000000         NaN\n",
       "max      30.000000         NaN"
      ]
     },
     "execution_count": 13,
     "metadata": {},
     "output_type": "execute_result"
    }
   ],
   "source": [
    "injuries.describe(include = 'all')"
   ]
  },
  {
   "cell_type": "code",
   "execution_count": 14,
   "metadata": {},
   "outputs": [
    {
     "data": {
      "text/plain": [
       "athlete_id             int64\n",
       "date          datetime64[ns]\n",
       "dtype: object"
      ]
     },
     "execution_count": 14,
     "metadata": {},
     "output_type": "execute_result"
    }
   ],
   "source": [
    "injuries['date'] = injuries['date'].astype('datetime64[ns]')\n",
    "injuries.dtypes"
   ]
  },
  {
   "cell_type": "code",
   "execution_count": 15,
   "metadata": {},
   "outputs": [],
   "source": [
    "\"\"\"Creating a new column named injury with all values as yes\"\"\"\n",
    "injuries[\"injury\"] = \"Yes\""
   ]
  },
  {
   "cell_type": "code",
   "execution_count": 16,
   "metadata": {},
   "outputs": [
    {
     "data": {
      "text/html": [
       "<div>\n",
       "<style scoped>\n",
       "    .dataframe tbody tr th:only-of-type {\n",
       "        vertical-align: middle;\n",
       "    }\n",
       "\n",
       "    .dataframe tbody tr th {\n",
       "        vertical-align: top;\n",
       "    }\n",
       "\n",
       "    .dataframe thead th {\n",
       "        text-align: right;\n",
       "    }\n",
       "</style>\n",
       "<table border=\"1\" class=\"dataframe\">\n",
       "  <thead>\n",
       "    <tr style=\"text-align: right;\">\n",
       "      <th></th>\n",
       "      <th>athlete_id</th>\n",
       "      <th>date</th>\n",
       "      <th>injury</th>\n",
       "    </tr>\n",
       "  </thead>\n",
       "  <tbody>\n",
       "    <tr>\n",
       "      <th>0</th>\n",
       "      <td>1</td>\n",
       "      <td>2016-05-11</td>\n",
       "      <td>Yes</td>\n",
       "    </tr>\n",
       "    <tr>\n",
       "      <th>1</th>\n",
       "      <td>1</td>\n",
       "      <td>2016-05-16</td>\n",
       "      <td>Yes</td>\n",
       "    </tr>\n",
       "    <tr>\n",
       "      <th>2</th>\n",
       "      <td>1</td>\n",
       "      <td>2016-07-28</td>\n",
       "      <td>Yes</td>\n",
       "    </tr>\n",
       "    <tr>\n",
       "      <th>3</th>\n",
       "      <td>1</td>\n",
       "      <td>2016-11-11</td>\n",
       "      <td>Yes</td>\n",
       "    </tr>\n",
       "    <tr>\n",
       "      <th>4</th>\n",
       "      <td>1</td>\n",
       "      <td>2016-12-16</td>\n",
       "      <td>Yes</td>\n",
       "    </tr>\n",
       "  </tbody>\n",
       "</table>\n",
       "</div>"
      ],
      "text/plain": [
       "   athlete_id       date injury\n",
       "0           1 2016-05-11    Yes\n",
       "1           1 2016-05-16    Yes\n",
       "2           1 2016-07-28    Yes\n",
       "3           1 2016-11-11    Yes\n",
       "4           1 2016-12-16    Yes"
      ]
     },
     "execution_count": 16,
     "metadata": {},
     "output_type": "execute_result"
    }
   ],
   "source": [
    "injuries.head()"
   ]
  },
  {
   "cell_type": "code",
   "execution_count": 17,
   "metadata": {},
   "outputs": [],
   "source": [
    "\"\"\"Merging the workload and injuries dataframes\"\"\"\n",
    "games_data = pd.merge(workload,injuries,  how='left', left_on=['athlete_id','date'], right_on = ['athlete_id','date'])"
   ]
  },
  {
   "cell_type": "code",
   "execution_count": 18,
   "metadata": {},
   "outputs": [
    {
     "name": "stderr",
     "output_type": "stream",
     "text": [
      "C:\\Users\\hp\\AppData\\Local\\Temp\\ipykernel_4324\\183131121.py:2: FutureWarning: A value is trying to be set on a copy of a DataFrame or Series through chained assignment using an inplace method.\n",
      "The behavior will change in pandas 3.0. This inplace method will never work because the intermediate object on which we are setting values always behaves as a copy.\n",
      "\n",
      "For example, when doing 'df[col].method(value, inplace=True)', try using 'df.method({col: value}, inplace=True)' or df[col] = df[col].method(value) instead, to perform the operation inplace on the original object.\n",
      "\n",
      "\n",
      "  games_data[\"injury\"].fillna(\"No\", inplace = True)\n"
     ]
    }
   ],
   "source": [
    "\"\"\"Replacing the NANs with No as the value in injury column\"\"\"\n",
    "games_data[\"injury\"].fillna(\"No\", inplace = True)\n",
    "#playersData[\"game_workload\"].fillna(0, inplace = True)\n"
   ]
  },
  {
   "cell_type": "markdown",
   "metadata": {},
   "source": [
    "Created a new column for recording the injury on the days games were played (as indicated by workload)"
   ]
  },
  {
   "cell_type": "code",
   "execution_count": 19,
   "metadata": {},
   "outputs": [
    {
     "data": {
      "text/html": [
       "<div>\n",
       "<style scoped>\n",
       "    .dataframe tbody tr th:only-of-type {\n",
       "        vertical-align: middle;\n",
       "    }\n",
       "\n",
       "    .dataframe tbody tr th {\n",
       "        vertical-align: top;\n",
       "    }\n",
       "\n",
       "    .dataframe thead th {\n",
       "        text-align: right;\n",
       "    }\n",
       "</style>\n",
       "<table border=\"1\" class=\"dataframe\">\n",
       "  <thead>\n",
       "    <tr style=\"text-align: right;\">\n",
       "      <th></th>\n",
       "      <th>athlete_id</th>\n",
       "      <th>date</th>\n",
       "      <th>game_workload</th>\n",
       "      <th>injury</th>\n",
       "    </tr>\n",
       "  </thead>\n",
       "  <tbody>\n",
       "    <tr>\n",
       "      <th>0</th>\n",
       "      <td>1</td>\n",
       "      <td>2016-05-05</td>\n",
       "      <td>402</td>\n",
       "      <td>No</td>\n",
       "    </tr>\n",
       "    <tr>\n",
       "      <th>1</th>\n",
       "      <td>1</td>\n",
       "      <td>2016-05-08</td>\n",
       "      <td>365</td>\n",
       "      <td>No</td>\n",
       "    </tr>\n",
       "    <tr>\n",
       "      <th>2</th>\n",
       "      <td>1</td>\n",
       "      <td>2016-05-11</td>\n",
       "      <td>457</td>\n",
       "      <td>Yes</td>\n",
       "    </tr>\n",
       "    <tr>\n",
       "      <th>3</th>\n",
       "      <td>1</td>\n",
       "      <td>2016-05-16</td>\n",
       "      <td>405</td>\n",
       "      <td>Yes</td>\n",
       "    </tr>\n",
       "    <tr>\n",
       "      <th>4</th>\n",
       "      <td>1</td>\n",
       "      <td>2016-05-20</td>\n",
       "      <td>407</td>\n",
       "      <td>No</td>\n",
       "    </tr>\n",
       "  </tbody>\n",
       "</table>\n",
       "</div>"
      ],
      "text/plain": [
       "   athlete_id       date  game_workload injury\n",
       "0           1 2016-05-05            402     No\n",
       "1           1 2016-05-08            365     No\n",
       "2           1 2016-05-11            457    Yes\n",
       "3           1 2016-05-16            405    Yes\n",
       "4           1 2016-05-20            407     No"
      ]
     },
     "execution_count": 19,
     "metadata": {},
     "output_type": "execute_result"
    }
   ],
   "source": [
    "games_data.head()"
   ]
  },
  {
   "cell_type": "code",
   "execution_count": 20,
   "metadata": {},
   "outputs": [
    {
     "data": {
      "text/html": [
       "<div>\n",
       "<style scoped>\n",
       "    .dataframe tbody tr th:only-of-type {\n",
       "        vertical-align: middle;\n",
       "    }\n",
       "\n",
       "    .dataframe tbody tr th {\n",
       "        vertical-align: top;\n",
       "    }\n",
       "\n",
       "    .dataframe thead th {\n",
       "        text-align: right;\n",
       "    }\n",
       "</style>\n",
       "<table border=\"1\" class=\"dataframe\">\n",
       "  <thead>\n",
       "    <tr style=\"text-align: right;\">\n",
       "      <th></th>\n",
       "      <th>athlete_id</th>\n",
       "      <th>date</th>\n",
       "      <th>metric</th>\n",
       "      <th>value</th>\n",
       "    </tr>\n",
       "  </thead>\n",
       "  <tbody>\n",
       "    <tr>\n",
       "      <th>0</th>\n",
       "      <td>1</td>\n",
       "      <td>2016-05-01</td>\n",
       "      <td>hip_mobility</td>\n",
       "      <td>36</td>\n",
       "    </tr>\n",
       "    <tr>\n",
       "      <th>1</th>\n",
       "      <td>1</td>\n",
       "      <td>2016-05-02</td>\n",
       "      <td>hip_mobility</td>\n",
       "      <td>36</td>\n",
       "    </tr>\n",
       "    <tr>\n",
       "      <th>2</th>\n",
       "      <td>1</td>\n",
       "      <td>2016-05-03</td>\n",
       "      <td>hip_mobility</td>\n",
       "      <td>56</td>\n",
       "    </tr>\n",
       "    <tr>\n",
       "      <th>3</th>\n",
       "      <td>1</td>\n",
       "      <td>2016-05-04</td>\n",
       "      <td>hip_mobility</td>\n",
       "      <td>24</td>\n",
       "    </tr>\n",
       "    <tr>\n",
       "      <th>4</th>\n",
       "      <td>1</td>\n",
       "      <td>2016-05-05</td>\n",
       "      <td>hip_mobility</td>\n",
       "      <td>35</td>\n",
       "    </tr>\n",
       "  </tbody>\n",
       "</table>\n",
       "</div>"
      ],
      "text/plain": [
       "   athlete_id       date        metric  value\n",
       "0           1 2016-05-01  hip_mobility     36\n",
       "1           1 2016-05-02  hip_mobility     36\n",
       "2           1 2016-05-03  hip_mobility     56\n",
       "3           1 2016-05-04  hip_mobility     24\n",
       "4           1 2016-05-05  hip_mobility     35"
      ]
     },
     "execution_count": 20,
     "metadata": {},
     "output_type": "execute_result"
    }
   ],
   "source": [
    "metrics.head()"
   ]
  },
  {
   "cell_type": "code",
   "execution_count": 21,
   "metadata": {},
   "outputs": [],
   "source": [
    "\"\"\"Recording metric type as two seperate columns i.e transposing the groin_squeeze and hip_mobility rows into columns\"\"\"\n",
    "new_metrics_df = metrics.pivot_table('value', ['athlete_id', 'date'], 'metric').reset_index()"
   ]
  },
  {
   "cell_type": "code",
   "execution_count": 22,
   "metadata": {},
   "outputs": [
    {
     "data": {
      "text/html": [
       "<div>\n",
       "<style scoped>\n",
       "    .dataframe tbody tr th:only-of-type {\n",
       "        vertical-align: middle;\n",
       "    }\n",
       "\n",
       "    .dataframe tbody tr th {\n",
       "        vertical-align: top;\n",
       "    }\n",
       "\n",
       "    .dataframe thead th {\n",
       "        text-align: right;\n",
       "    }\n",
       "</style>\n",
       "<table border=\"1\" class=\"dataframe\">\n",
       "  <thead>\n",
       "    <tr style=\"text-align: right;\">\n",
       "      <th>metric</th>\n",
       "      <th>athlete_id</th>\n",
       "      <th>date</th>\n",
       "      <th>groin_squeeze</th>\n",
       "      <th>hip_mobility</th>\n",
       "    </tr>\n",
       "  </thead>\n",
       "  <tbody>\n",
       "    <tr>\n",
       "      <th>0</th>\n",
       "      <td>1</td>\n",
       "      <td>2016-05-01</td>\n",
       "      <td>297.0</td>\n",
       "      <td>36.0</td>\n",
       "    </tr>\n",
       "    <tr>\n",
       "      <th>1</th>\n",
       "      <td>1</td>\n",
       "      <td>2016-05-02</td>\n",
       "      <td>274.0</td>\n",
       "      <td>36.0</td>\n",
       "    </tr>\n",
       "    <tr>\n",
       "      <th>2</th>\n",
       "      <td>1</td>\n",
       "      <td>2016-05-03</td>\n",
       "      <td>291.0</td>\n",
       "      <td>56.0</td>\n",
       "    </tr>\n",
       "    <tr>\n",
       "      <th>3</th>\n",
       "      <td>1</td>\n",
       "      <td>2016-05-04</td>\n",
       "      <td>260.0</td>\n",
       "      <td>24.0</td>\n",
       "    </tr>\n",
       "    <tr>\n",
       "      <th>4</th>\n",
       "      <td>1</td>\n",
       "      <td>2016-05-05</td>\n",
       "      <td>284.0</td>\n",
       "      <td>35.0</td>\n",
       "    </tr>\n",
       "  </tbody>\n",
       "</table>\n",
       "</div>"
      ],
      "text/plain": [
       "metric  athlete_id       date  groin_squeeze  hip_mobility\n",
       "0                1 2016-05-01          297.0          36.0\n",
       "1                1 2016-05-02          274.0          36.0\n",
       "2                1 2016-05-03          291.0          56.0\n",
       "3                1 2016-05-04          260.0          24.0\n",
       "4                1 2016-05-05          284.0          35.0"
      ]
     },
     "execution_count": 22,
     "metadata": {},
     "output_type": "execute_result"
    }
   ],
   "source": [
    "new_metrics_df.head()"
   ]
  },
  {
   "cell_type": "code",
   "execution_count": 23,
   "metadata": {},
   "outputs": [
    {
     "data": {
      "text/plain": [
       "(21900, 4)"
      ]
     },
     "execution_count": 23,
     "metadata": {},
     "output_type": "execute_result"
    }
   ],
   "source": [
    "new_metrics_df.shape"
   ]
  },
  {
   "cell_type": "code",
   "execution_count": 24,
   "metadata": {},
   "outputs": [],
   "source": [
    "\"\"\"Merging the necessary columns from all the tables into one final dataframe for further analysis\"\"\"\n",
    "final_data = pd.merge(games_data,new_metrics_df,  how='left', left_on=['athlete_id','date'], right_on = ['athlete_id','date'])"
   ]
  },
  {
   "cell_type": "code",
   "execution_count": 25,
   "metadata": {},
   "outputs": [
    {
     "data": {
      "text/plain": [
       "(2400, 6)"
      ]
     },
     "execution_count": 25,
     "metadata": {},
     "output_type": "execute_result"
    }
   ],
   "source": [
    "final_data.shape"
   ]
  },
  {
   "cell_type": "code",
   "execution_count": 26,
   "metadata": {},
   "outputs": [
    {
     "data": {
      "text/html": [
       "<div>\n",
       "<style scoped>\n",
       "    .dataframe tbody tr th:only-of-type {\n",
       "        vertical-align: middle;\n",
       "    }\n",
       "\n",
       "    .dataframe tbody tr th {\n",
       "        vertical-align: top;\n",
       "    }\n",
       "\n",
       "    .dataframe thead th {\n",
       "        text-align: right;\n",
       "    }\n",
       "</style>\n",
       "<table border=\"1\" class=\"dataframe\">\n",
       "  <thead>\n",
       "    <tr style=\"text-align: right;\">\n",
       "      <th></th>\n",
       "      <th>athlete_id</th>\n",
       "      <th>date</th>\n",
       "      <th>game_workload</th>\n",
       "      <th>injury</th>\n",
       "      <th>groin_squeeze</th>\n",
       "      <th>hip_mobility</th>\n",
       "    </tr>\n",
       "  </thead>\n",
       "  <tbody>\n",
       "    <tr>\n",
       "      <th>0</th>\n",
       "      <td>1</td>\n",
       "      <td>2016-05-05</td>\n",
       "      <td>402</td>\n",
       "      <td>No</td>\n",
       "      <td>284.0</td>\n",
       "      <td>35.0</td>\n",
       "    </tr>\n",
       "    <tr>\n",
       "      <th>1</th>\n",
       "      <td>1</td>\n",
       "      <td>2016-05-08</td>\n",
       "      <td>365</td>\n",
       "      <td>No</td>\n",
       "      <td>250.0</td>\n",
       "      <td>41.0</td>\n",
       "    </tr>\n",
       "    <tr>\n",
       "      <th>2</th>\n",
       "      <td>1</td>\n",
       "      <td>2016-05-11</td>\n",
       "      <td>457</td>\n",
       "      <td>Yes</td>\n",
       "      <td>331.0</td>\n",
       "      <td>33.0</td>\n",
       "    </tr>\n",
       "    <tr>\n",
       "      <th>3</th>\n",
       "      <td>1</td>\n",
       "      <td>2016-05-16</td>\n",
       "      <td>405</td>\n",
       "      <td>Yes</td>\n",
       "      <td>260.0</td>\n",
       "      <td>38.0</td>\n",
       "    </tr>\n",
       "    <tr>\n",
       "      <th>4</th>\n",
       "      <td>1</td>\n",
       "      <td>2016-05-20</td>\n",
       "      <td>407</td>\n",
       "      <td>No</td>\n",
       "      <td>378.0</td>\n",
       "      <td>60.0</td>\n",
       "    </tr>\n",
       "  </tbody>\n",
       "</table>\n",
       "</div>"
      ],
      "text/plain": [
       "   athlete_id       date  game_workload injury  groin_squeeze  hip_mobility\n",
       "0           1 2016-05-05            402     No          284.0          35.0\n",
       "1           1 2016-05-08            365     No          250.0          41.0\n",
       "2           1 2016-05-11            457    Yes          331.0          33.0\n",
       "3           1 2016-05-16            405    Yes          260.0          38.0\n",
       "4           1 2016-05-20            407     No          378.0          60.0"
      ]
     },
     "execution_count": 26,
     "metadata": {},
     "output_type": "execute_result"
    }
   ],
   "source": [
    "final_data.head()"
   ]
  },
  {
   "cell_type": "markdown",
   "metadata": {},
   "source": [
    "Creating new column named <b>rest_period</b> i.e difference between two consecutive games played by a player"
   ]
  },
  {
   "cell_type": "code",
   "execution_count": 27,
   "metadata": {},
   "outputs": [],
   "source": [
    "final_data['rest_period'] = final_data.groupby('athlete_id')['date'].diff()"
   ]
  },
  {
   "cell_type": "code",
   "execution_count": 28,
   "metadata": {},
   "outputs": [
    {
     "data": {
      "text/html": [
       "<div>\n",
       "<style scoped>\n",
       "    .dataframe tbody tr th:only-of-type {\n",
       "        vertical-align: middle;\n",
       "    }\n",
       "\n",
       "    .dataframe tbody tr th {\n",
       "        vertical-align: top;\n",
       "    }\n",
       "\n",
       "    .dataframe thead th {\n",
       "        text-align: right;\n",
       "    }\n",
       "</style>\n",
       "<table border=\"1\" class=\"dataframe\">\n",
       "  <thead>\n",
       "    <tr style=\"text-align: right;\">\n",
       "      <th></th>\n",
       "      <th>athlete_id</th>\n",
       "      <th>date</th>\n",
       "      <th>game_workload</th>\n",
       "      <th>injury</th>\n",
       "      <th>groin_squeeze</th>\n",
       "      <th>hip_mobility</th>\n",
       "      <th>rest_period</th>\n",
       "    </tr>\n",
       "  </thead>\n",
       "  <tbody>\n",
       "    <tr>\n",
       "      <th>0</th>\n",
       "      <td>1</td>\n",
       "      <td>2016-05-05</td>\n",
       "      <td>402</td>\n",
       "      <td>No</td>\n",
       "      <td>284.0</td>\n",
       "      <td>35.0</td>\n",
       "      <td>NaT</td>\n",
       "    </tr>\n",
       "    <tr>\n",
       "      <th>1</th>\n",
       "      <td>1</td>\n",
       "      <td>2016-05-08</td>\n",
       "      <td>365</td>\n",
       "      <td>No</td>\n",
       "      <td>250.0</td>\n",
       "      <td>41.0</td>\n",
       "      <td>3 days</td>\n",
       "    </tr>\n",
       "    <tr>\n",
       "      <th>2</th>\n",
       "      <td>1</td>\n",
       "      <td>2016-05-11</td>\n",
       "      <td>457</td>\n",
       "      <td>Yes</td>\n",
       "      <td>331.0</td>\n",
       "      <td>33.0</td>\n",
       "      <td>3 days</td>\n",
       "    </tr>\n",
       "    <tr>\n",
       "      <th>3</th>\n",
       "      <td>1</td>\n",
       "      <td>2016-05-16</td>\n",
       "      <td>405</td>\n",
       "      <td>Yes</td>\n",
       "      <td>260.0</td>\n",
       "      <td>38.0</td>\n",
       "      <td>5 days</td>\n",
       "    </tr>\n",
       "    <tr>\n",
       "      <th>4</th>\n",
       "      <td>1</td>\n",
       "      <td>2016-05-20</td>\n",
       "      <td>407</td>\n",
       "      <td>No</td>\n",
       "      <td>378.0</td>\n",
       "      <td>60.0</td>\n",
       "      <td>4 days</td>\n",
       "    </tr>\n",
       "  </tbody>\n",
       "</table>\n",
       "</div>"
      ],
      "text/plain": [
       "   athlete_id       date  game_workload injury  groin_squeeze  hip_mobility  \\\n",
       "0           1 2016-05-05            402     No          284.0          35.0   \n",
       "1           1 2016-05-08            365     No          250.0          41.0   \n",
       "2           1 2016-05-11            457    Yes          331.0          33.0   \n",
       "3           1 2016-05-16            405    Yes          260.0          38.0   \n",
       "4           1 2016-05-20            407     No          378.0          60.0   \n",
       "\n",
       "  rest_period  \n",
       "0         NaT  \n",
       "1      3 days  \n",
       "2      3 days  \n",
       "3      5 days  \n",
       "4      4 days  "
      ]
     },
     "execution_count": 28,
     "metadata": {},
     "output_type": "execute_result"
    }
   ],
   "source": [
    "final_data.head()"
   ]
  },
  {
   "cell_type": "markdown",
   "metadata": {},
   "source": [
    "Since the data for all the players was given from the date 2016-05-01, the resting period for the first game played by each player is taken as the difference between their first game and the date 2016-05-01."
   ]
  },
  {
   "cell_type": "code",
   "execution_count": 29,
   "metadata": {},
   "outputs": [],
   "source": [
    "first_day = '2016-05-01'\n",
    "date_object = pd.to_datetime(first_day)"
   ]
  },
  {
   "cell_type": "code",
   "execution_count": 30,
   "metadata": {},
   "outputs": [
    {
     "name": "stderr",
     "output_type": "stream",
     "text": [
      "C:\\Users\\hp\\AppData\\Local\\Temp\\ipykernel_4324\\3327428391.py:1: FutureWarning: A value is trying to be set on a copy of a DataFrame or Series through chained assignment using an inplace method.\n",
      "The behavior will change in pandas 3.0. This inplace method will never work because the intermediate object on which we are setting values always behaves as a copy.\n",
      "\n",
      "For example, when doing 'df[col].method(value, inplace=True)', try using 'df.method({col: value}, inplace=True)' or df[col] = df[col].method(value) instead, to perform the operation inplace on the original object.\n",
      "\n",
      "\n",
      "  final_data[\"rest_period\"].fillna(final_data['date'] - date_object, inplace = True)\n"
     ]
    }
   ],
   "source": [
    "final_data[\"rest_period\"].fillna(final_data['date'] - date_object, inplace = True)"
   ]
  },
  {
   "cell_type": "code",
   "execution_count": 31,
   "metadata": {},
   "outputs": [
    {
     "data": {
      "text/html": [
       "<div>\n",
       "<style scoped>\n",
       "    .dataframe tbody tr th:only-of-type {\n",
       "        vertical-align: middle;\n",
       "    }\n",
       "\n",
       "    .dataframe tbody tr th {\n",
       "        vertical-align: top;\n",
       "    }\n",
       "\n",
       "    .dataframe thead th {\n",
       "        text-align: right;\n",
       "    }\n",
       "</style>\n",
       "<table border=\"1\" class=\"dataframe\">\n",
       "  <thead>\n",
       "    <tr style=\"text-align: right;\">\n",
       "      <th></th>\n",
       "      <th>athlete_id</th>\n",
       "      <th>date</th>\n",
       "      <th>game_workload</th>\n",
       "      <th>injury</th>\n",
       "      <th>groin_squeeze</th>\n",
       "      <th>hip_mobility</th>\n",
       "      <th>rest_period</th>\n",
       "    </tr>\n",
       "  </thead>\n",
       "  <tbody>\n",
       "    <tr>\n",
       "      <th>0</th>\n",
       "      <td>1</td>\n",
       "      <td>2016-05-05</td>\n",
       "      <td>402</td>\n",
       "      <td>No</td>\n",
       "      <td>284.0</td>\n",
       "      <td>35.0</td>\n",
       "      <td>4 days</td>\n",
       "    </tr>\n",
       "    <tr>\n",
       "      <th>1</th>\n",
       "      <td>1</td>\n",
       "      <td>2016-05-08</td>\n",
       "      <td>365</td>\n",
       "      <td>No</td>\n",
       "      <td>250.0</td>\n",
       "      <td>41.0</td>\n",
       "      <td>3 days</td>\n",
       "    </tr>\n",
       "    <tr>\n",
       "      <th>2</th>\n",
       "      <td>1</td>\n",
       "      <td>2016-05-11</td>\n",
       "      <td>457</td>\n",
       "      <td>Yes</td>\n",
       "      <td>331.0</td>\n",
       "      <td>33.0</td>\n",
       "      <td>3 days</td>\n",
       "    </tr>\n",
       "    <tr>\n",
       "      <th>3</th>\n",
       "      <td>1</td>\n",
       "      <td>2016-05-16</td>\n",
       "      <td>405</td>\n",
       "      <td>Yes</td>\n",
       "      <td>260.0</td>\n",
       "      <td>38.0</td>\n",
       "      <td>5 days</td>\n",
       "    </tr>\n",
       "    <tr>\n",
       "      <th>4</th>\n",
       "      <td>1</td>\n",
       "      <td>2016-05-20</td>\n",
       "      <td>407</td>\n",
       "      <td>No</td>\n",
       "      <td>378.0</td>\n",
       "      <td>60.0</td>\n",
       "      <td>4 days</td>\n",
       "    </tr>\n",
       "  </tbody>\n",
       "</table>\n",
       "</div>"
      ],
      "text/plain": [
       "   athlete_id       date  game_workload injury  groin_squeeze  hip_mobility  \\\n",
       "0           1 2016-05-05            402     No          284.0          35.0   \n",
       "1           1 2016-05-08            365     No          250.0          41.0   \n",
       "2           1 2016-05-11            457    Yes          331.0          33.0   \n",
       "3           1 2016-05-16            405    Yes          260.0          38.0   \n",
       "4           1 2016-05-20            407     No          378.0          60.0   \n",
       "\n",
       "  rest_period  \n",
       "0      4 days  \n",
       "1      3 days  \n",
       "2      3 days  \n",
       "3      5 days  \n",
       "4      4 days  "
      ]
     },
     "execution_count": 31,
     "metadata": {},
     "output_type": "execute_result"
    }
   ],
   "source": [
    "final_data.head()"
   ]
  },
  {
   "cell_type": "code",
   "execution_count": 32,
   "metadata": {},
   "outputs": [
    {
     "data": {
      "text/plain": [
       "athlete_id                 int64\n",
       "date              datetime64[ns]\n",
       "game_workload              int64\n",
       "injury                    object\n",
       "groin_squeeze            float64\n",
       "hip_mobility             float64\n",
       "rest_period      timedelta64[ns]\n",
       "dtype: object"
      ]
     },
     "execution_count": 32,
     "metadata": {},
     "output_type": "execute_result"
    }
   ],
   "source": [
    "# final_data['rest_period'].dtype\n",
    "final_data.dtypes"
   ]
  },
  {
   "cell_type": "code",
   "execution_count": 33,
   "metadata": {},
   "outputs": [],
   "source": [
    "\"\"\"Converting the column into day format\"\"\"\n",
    "final_data['rest_period'] = final_data['rest_period'] / np.timedelta64(1, 'D')"
   ]
  },
  {
   "cell_type": "code",
   "execution_count": 34,
   "metadata": {},
   "outputs": [
    {
     "data": {
      "text/html": [
       "<div>\n",
       "<style scoped>\n",
       "    .dataframe tbody tr th:only-of-type {\n",
       "        vertical-align: middle;\n",
       "    }\n",
       "\n",
       "    .dataframe tbody tr th {\n",
       "        vertical-align: top;\n",
       "    }\n",
       "\n",
       "    .dataframe thead th {\n",
       "        text-align: right;\n",
       "    }\n",
       "</style>\n",
       "<table border=\"1\" class=\"dataframe\">\n",
       "  <thead>\n",
       "    <tr style=\"text-align: right;\">\n",
       "      <th></th>\n",
       "      <th>athlete_id</th>\n",
       "      <th>date</th>\n",
       "      <th>game_workload</th>\n",
       "      <th>injury</th>\n",
       "      <th>groin_squeeze</th>\n",
       "      <th>hip_mobility</th>\n",
       "      <th>rest_period</th>\n",
       "    </tr>\n",
       "  </thead>\n",
       "  <tbody>\n",
       "    <tr>\n",
       "      <th>0</th>\n",
       "      <td>1</td>\n",
       "      <td>2016-05-05</td>\n",
       "      <td>402</td>\n",
       "      <td>No</td>\n",
       "      <td>284.0</td>\n",
       "      <td>35.0</td>\n",
       "      <td>4.0</td>\n",
       "    </tr>\n",
       "    <tr>\n",
       "      <th>1</th>\n",
       "      <td>1</td>\n",
       "      <td>2016-05-08</td>\n",
       "      <td>365</td>\n",
       "      <td>No</td>\n",
       "      <td>250.0</td>\n",
       "      <td>41.0</td>\n",
       "      <td>3.0</td>\n",
       "    </tr>\n",
       "    <tr>\n",
       "      <th>2</th>\n",
       "      <td>1</td>\n",
       "      <td>2016-05-11</td>\n",
       "      <td>457</td>\n",
       "      <td>Yes</td>\n",
       "      <td>331.0</td>\n",
       "      <td>33.0</td>\n",
       "      <td>3.0</td>\n",
       "    </tr>\n",
       "    <tr>\n",
       "      <th>3</th>\n",
       "      <td>1</td>\n",
       "      <td>2016-05-16</td>\n",
       "      <td>405</td>\n",
       "      <td>Yes</td>\n",
       "      <td>260.0</td>\n",
       "      <td>38.0</td>\n",
       "      <td>5.0</td>\n",
       "    </tr>\n",
       "    <tr>\n",
       "      <th>4</th>\n",
       "      <td>1</td>\n",
       "      <td>2016-05-20</td>\n",
       "      <td>407</td>\n",
       "      <td>No</td>\n",
       "      <td>378.0</td>\n",
       "      <td>60.0</td>\n",
       "      <td>4.0</td>\n",
       "    </tr>\n",
       "  </tbody>\n",
       "</table>\n",
       "</div>"
      ],
      "text/plain": [
       "   athlete_id       date  game_workload injury  groin_squeeze  hip_mobility  \\\n",
       "0           1 2016-05-05            402     No          284.0          35.0   \n",
       "1           1 2016-05-08            365     No          250.0          41.0   \n",
       "2           1 2016-05-11            457    Yes          331.0          33.0   \n",
       "3           1 2016-05-16            405    Yes          260.0          38.0   \n",
       "4           1 2016-05-20            407     No          378.0          60.0   \n",
       "\n",
       "   rest_period  \n",
       "0          4.0  \n",
       "1          3.0  \n",
       "2          3.0  \n",
       "3          5.0  \n",
       "4          4.0  "
      ]
     },
     "execution_count": 34,
     "metadata": {},
     "output_type": "execute_result"
    }
   ],
   "source": [
    "final_data.head()"
   ]
  },
  {
   "cell_type": "code",
   "execution_count": 35,
   "metadata": {},
   "outputs": [],
   "source": [
    "final_data['injury'] = final_data['injury'].map({'Yes': 1, 'No': 0})\n"
   ]
  },
  {
   "cell_type": "code",
   "execution_count": 36,
   "metadata": {},
   "outputs": [
    {
     "data": {
      "text/html": [
       "<div>\n",
       "<style scoped>\n",
       "    .dataframe tbody tr th:only-of-type {\n",
       "        vertical-align: middle;\n",
       "    }\n",
       "\n",
       "    .dataframe tbody tr th {\n",
       "        vertical-align: top;\n",
       "    }\n",
       "\n",
       "    .dataframe thead th {\n",
       "        text-align: right;\n",
       "    }\n",
       "</style>\n",
       "<table border=\"1\" class=\"dataframe\">\n",
       "  <thead>\n",
       "    <tr style=\"text-align: right;\">\n",
       "      <th></th>\n",
       "      <th>athlete_id</th>\n",
       "      <th>date</th>\n",
       "      <th>game_workload</th>\n",
       "      <th>injury</th>\n",
       "      <th>groin_squeeze</th>\n",
       "      <th>hip_mobility</th>\n",
       "      <th>rest_period</th>\n",
       "    </tr>\n",
       "  </thead>\n",
       "  <tbody>\n",
       "    <tr>\n",
       "      <th>athlete_id</th>\n",
       "      <td>1.000000</td>\n",
       "      <td>-0.006656</td>\n",
       "      <td>-0.030159</td>\n",
       "      <td>-0.001221</td>\n",
       "      <td>-0.051175</td>\n",
       "      <td>-0.014437</td>\n",
       "      <td>-0.016292</td>\n",
       "    </tr>\n",
       "    <tr>\n",
       "      <th>date</th>\n",
       "      <td>-0.006656</td>\n",
       "      <td>1.000000</td>\n",
       "      <td>-0.009440</td>\n",
       "      <td>-0.009742</td>\n",
       "      <td>-0.019158</td>\n",
       "      <td>0.034003</td>\n",
       "      <td>0.017847</td>\n",
       "    </tr>\n",
       "    <tr>\n",
       "      <th>game_workload</th>\n",
       "      <td>-0.030159</td>\n",
       "      <td>-0.009440</td>\n",
       "      <td>1.000000</td>\n",
       "      <td>-0.003555</td>\n",
       "      <td>-0.022571</td>\n",
       "      <td>0.000956</td>\n",
       "      <td>-0.023001</td>\n",
       "    </tr>\n",
       "    <tr>\n",
       "      <th>injury</th>\n",
       "      <td>-0.001221</td>\n",
       "      <td>-0.009742</td>\n",
       "      <td>-0.003555</td>\n",
       "      <td>1.000000</td>\n",
       "      <td>0.032017</td>\n",
       "      <td>0.002212</td>\n",
       "      <td>-0.109444</td>\n",
       "    </tr>\n",
       "    <tr>\n",
       "      <th>groin_squeeze</th>\n",
       "      <td>-0.051175</td>\n",
       "      <td>-0.019158</td>\n",
       "      <td>-0.022571</td>\n",
       "      <td>0.032017</td>\n",
       "      <td>1.000000</td>\n",
       "      <td>-0.001996</td>\n",
       "      <td>0.039563</td>\n",
       "    </tr>\n",
       "    <tr>\n",
       "      <th>hip_mobility</th>\n",
       "      <td>-0.014437</td>\n",
       "      <td>0.034003</td>\n",
       "      <td>0.000956</td>\n",
       "      <td>0.002212</td>\n",
       "      <td>-0.001996</td>\n",
       "      <td>1.000000</td>\n",
       "      <td>0.006614</td>\n",
       "    </tr>\n",
       "    <tr>\n",
       "      <th>rest_period</th>\n",
       "      <td>-0.016292</td>\n",
       "      <td>0.017847</td>\n",
       "      <td>-0.023001</td>\n",
       "      <td>-0.109444</td>\n",
       "      <td>0.039563</td>\n",
       "      <td>0.006614</td>\n",
       "      <td>1.000000</td>\n",
       "    </tr>\n",
       "  </tbody>\n",
       "</table>\n",
       "</div>"
      ],
      "text/plain": [
       "               athlete_id      date  game_workload    injury  groin_squeeze  \\\n",
       "athlete_id       1.000000 -0.006656      -0.030159 -0.001221      -0.051175   \n",
       "date            -0.006656  1.000000      -0.009440 -0.009742      -0.019158   \n",
       "game_workload   -0.030159 -0.009440       1.000000 -0.003555      -0.022571   \n",
       "injury          -0.001221 -0.009742      -0.003555  1.000000       0.032017   \n",
       "groin_squeeze   -0.051175 -0.019158      -0.022571  0.032017       1.000000   \n",
       "hip_mobility    -0.014437  0.034003       0.000956  0.002212      -0.001996   \n",
       "rest_period     -0.016292  0.017847      -0.023001 -0.109444       0.039563   \n",
       "\n",
       "               hip_mobility  rest_period  \n",
       "athlete_id        -0.014437    -0.016292  \n",
       "date               0.034003     0.017847  \n",
       "game_workload      0.000956    -0.023001  \n",
       "injury             0.002212    -0.109444  \n",
       "groin_squeeze     -0.001996     0.039563  \n",
       "hip_mobility       1.000000     0.006614  \n",
       "rest_period        0.006614     1.000000  "
      ]
     },
     "execution_count": 36,
     "metadata": {},
     "output_type": "execute_result"
    }
   ],
   "source": [
    "\"\"\"Checking for correlation between the attributes (columns)\"\"\"\n",
    "final_data.corr()"
   ]
  },
  {
   "cell_type": "markdown",
   "metadata": {},
   "source": [
    "<h2> Statistical Analysis</h2>"
   ]
  },
  {
   "cell_type": "markdown",
   "metadata": {},
   "source": [
    "Preparing the dataframe for statistical analysis/ machine learning by adding/removing the categorical variables."
   ]
  },
  {
   "cell_type": "code",
   "execution_count": 37,
   "metadata": {},
   "outputs": [],
   "source": [
    "\n",
    "final_data = final_data[['injury','athlete_id','date','game_workload','groin_squeeze','hip_mobility','rest_period']]"
   ]
  },
  {
   "cell_type": "code",
   "execution_count": 38,
   "metadata": {},
   "outputs": [
    {
     "data": {
      "text/html": [
       "<div>\n",
       "<style scoped>\n",
       "    .dataframe tbody tr th:only-of-type {\n",
       "        vertical-align: middle;\n",
       "    }\n",
       "\n",
       "    .dataframe tbody tr th {\n",
       "        vertical-align: top;\n",
       "    }\n",
       "\n",
       "    .dataframe thead th {\n",
       "        text-align: right;\n",
       "    }\n",
       "</style>\n",
       "<table border=\"1\" class=\"dataframe\">\n",
       "  <thead>\n",
       "    <tr style=\"text-align: right;\">\n",
       "      <th></th>\n",
       "      <th>injury</th>\n",
       "      <th>athlete_id</th>\n",
       "      <th>date</th>\n",
       "      <th>game_workload</th>\n",
       "      <th>groin_squeeze</th>\n",
       "      <th>hip_mobility</th>\n",
       "      <th>rest_period</th>\n",
       "    </tr>\n",
       "  </thead>\n",
       "  <tbody>\n",
       "    <tr>\n",
       "      <th>0</th>\n",
       "      <td>0</td>\n",
       "      <td>1</td>\n",
       "      <td>2016-05-05</td>\n",
       "      <td>402</td>\n",
       "      <td>284.0</td>\n",
       "      <td>35.0</td>\n",
       "      <td>4.0</td>\n",
       "    </tr>\n",
       "    <tr>\n",
       "      <th>1</th>\n",
       "      <td>0</td>\n",
       "      <td>1</td>\n",
       "      <td>2016-05-08</td>\n",
       "      <td>365</td>\n",
       "      <td>250.0</td>\n",
       "      <td>41.0</td>\n",
       "      <td>3.0</td>\n",
       "    </tr>\n",
       "    <tr>\n",
       "      <th>2</th>\n",
       "      <td>1</td>\n",
       "      <td>1</td>\n",
       "      <td>2016-05-11</td>\n",
       "      <td>457</td>\n",
       "      <td>331.0</td>\n",
       "      <td>33.0</td>\n",
       "      <td>3.0</td>\n",
       "    </tr>\n",
       "    <tr>\n",
       "      <th>3</th>\n",
       "      <td>1</td>\n",
       "      <td>1</td>\n",
       "      <td>2016-05-16</td>\n",
       "      <td>405</td>\n",
       "      <td>260.0</td>\n",
       "      <td>38.0</td>\n",
       "      <td>5.0</td>\n",
       "    </tr>\n",
       "    <tr>\n",
       "      <th>4</th>\n",
       "      <td>0</td>\n",
       "      <td>1</td>\n",
       "      <td>2016-05-20</td>\n",
       "      <td>407</td>\n",
       "      <td>378.0</td>\n",
       "      <td>60.0</td>\n",
       "      <td>4.0</td>\n",
       "    </tr>\n",
       "  </tbody>\n",
       "</table>\n",
       "</div>"
      ],
      "text/plain": [
       "   injury  athlete_id       date  game_workload  groin_squeeze  hip_mobility  \\\n",
       "0       0           1 2016-05-05            402          284.0          35.0   \n",
       "1       0           1 2016-05-08            365          250.0          41.0   \n",
       "2       1           1 2016-05-11            457          331.0          33.0   \n",
       "3       1           1 2016-05-16            405          260.0          38.0   \n",
       "4       0           1 2016-05-20            407          378.0          60.0   \n",
       "\n",
       "   rest_period  \n",
       "0          4.0  \n",
       "1          3.0  \n",
       "2          3.0  \n",
       "3          5.0  \n",
       "4          4.0  "
      ]
     },
     "execution_count": 38,
     "metadata": {},
     "output_type": "execute_result"
    }
   ],
   "source": [
    "final_data.head()"
   ]
  },
  {
   "cell_type": "code",
   "execution_count": 39,
   "metadata": {},
   "outputs": [],
   "source": [
    "ready_data=final_data"
   ]
  },
  {
   "cell_type": "code",
   "execution_count": 40,
   "metadata": {},
   "outputs": [
    {
     "data": {
      "text/html": [
       "<div>\n",
       "<style scoped>\n",
       "    .dataframe tbody tr th:only-of-type {\n",
       "        vertical-align: middle;\n",
       "    }\n",
       "\n",
       "    .dataframe tbody tr th {\n",
       "        vertical-align: top;\n",
       "    }\n",
       "\n",
       "    .dataframe thead th {\n",
       "        text-align: right;\n",
       "    }\n",
       "</style>\n",
       "<table border=\"1\" class=\"dataframe\">\n",
       "  <thead>\n",
       "    <tr style=\"text-align: right;\">\n",
       "      <th></th>\n",
       "      <th>injury</th>\n",
       "      <th>athlete_id</th>\n",
       "      <th>date</th>\n",
       "      <th>game_workload</th>\n",
       "      <th>groin_squeeze</th>\n",
       "      <th>hip_mobility</th>\n",
       "      <th>rest_period</th>\n",
       "    </tr>\n",
       "  </thead>\n",
       "  <tbody>\n",
       "    <tr>\n",
       "      <th>0</th>\n",
       "      <td>0</td>\n",
       "      <td>1</td>\n",
       "      <td>2016-05-05</td>\n",
       "      <td>402</td>\n",
       "      <td>284.0</td>\n",
       "      <td>35.0</td>\n",
       "      <td>4.0</td>\n",
       "    </tr>\n",
       "    <tr>\n",
       "      <th>1</th>\n",
       "      <td>0</td>\n",
       "      <td>1</td>\n",
       "      <td>2016-05-08</td>\n",
       "      <td>365</td>\n",
       "      <td>250.0</td>\n",
       "      <td>41.0</td>\n",
       "      <td>3.0</td>\n",
       "    </tr>\n",
       "    <tr>\n",
       "      <th>2</th>\n",
       "      <td>1</td>\n",
       "      <td>1</td>\n",
       "      <td>2016-05-11</td>\n",
       "      <td>457</td>\n",
       "      <td>331.0</td>\n",
       "      <td>33.0</td>\n",
       "      <td>3.0</td>\n",
       "    </tr>\n",
       "    <tr>\n",
       "      <th>3</th>\n",
       "      <td>1</td>\n",
       "      <td>1</td>\n",
       "      <td>2016-05-16</td>\n",
       "      <td>405</td>\n",
       "      <td>260.0</td>\n",
       "      <td>38.0</td>\n",
       "      <td>5.0</td>\n",
       "    </tr>\n",
       "    <tr>\n",
       "      <th>4</th>\n",
       "      <td>0</td>\n",
       "      <td>1</td>\n",
       "      <td>2016-05-20</td>\n",
       "      <td>407</td>\n",
       "      <td>378.0</td>\n",
       "      <td>60.0</td>\n",
       "      <td>4.0</td>\n",
       "    </tr>\n",
       "  </tbody>\n",
       "</table>\n",
       "</div>"
      ],
      "text/plain": [
       "   injury  athlete_id       date  game_workload  groin_squeeze  hip_mobility  \\\n",
       "0       0           1 2016-05-05            402          284.0          35.0   \n",
       "1       0           1 2016-05-08            365          250.0          41.0   \n",
       "2       1           1 2016-05-11            457          331.0          33.0   \n",
       "3       1           1 2016-05-16            405          260.0          38.0   \n",
       "4       0           1 2016-05-20            407          378.0          60.0   \n",
       "\n",
       "   rest_period  \n",
       "0          4.0  \n",
       "1          3.0  \n",
       "2          3.0  \n",
       "3          5.0  \n",
       "4          4.0  "
      ]
     },
     "execution_count": 40,
     "metadata": {},
     "output_type": "execute_result"
    }
   ],
   "source": [
    "ready_data.head()"
   ]
  },
  {
   "cell_type": "code",
   "execution_count": 41,
   "metadata": {},
   "outputs": [],
   "source": [
    "ready_data.drop('athlete_id', axis = 1, inplace= True)\n",
    "ready_data.drop('date', axis = 1, inplace = True)"
   ]
  },
  {
   "cell_type": "code",
   "execution_count": 42,
   "metadata": {},
   "outputs": [
    {
     "data": {
      "text/html": [
       "<div>\n",
       "<style scoped>\n",
       "    .dataframe tbody tr th:only-of-type {\n",
       "        vertical-align: middle;\n",
       "    }\n",
       "\n",
       "    .dataframe tbody tr th {\n",
       "        vertical-align: top;\n",
       "    }\n",
       "\n",
       "    .dataframe thead th {\n",
       "        text-align: right;\n",
       "    }\n",
       "</style>\n",
       "<table border=\"1\" class=\"dataframe\">\n",
       "  <thead>\n",
       "    <tr style=\"text-align: right;\">\n",
       "      <th></th>\n",
       "      <th>injury</th>\n",
       "      <th>game_workload</th>\n",
       "      <th>groin_squeeze</th>\n",
       "      <th>hip_mobility</th>\n",
       "      <th>rest_period</th>\n",
       "    </tr>\n",
       "  </thead>\n",
       "  <tbody>\n",
       "    <tr>\n",
       "      <th>0</th>\n",
       "      <td>0</td>\n",
       "      <td>402</td>\n",
       "      <td>284.0</td>\n",
       "      <td>35.0</td>\n",
       "      <td>4.0</td>\n",
       "    </tr>\n",
       "    <tr>\n",
       "      <th>1</th>\n",
       "      <td>0</td>\n",
       "      <td>365</td>\n",
       "      <td>250.0</td>\n",
       "      <td>41.0</td>\n",
       "      <td>3.0</td>\n",
       "    </tr>\n",
       "    <tr>\n",
       "      <th>2</th>\n",
       "      <td>1</td>\n",
       "      <td>457</td>\n",
       "      <td>331.0</td>\n",
       "      <td>33.0</td>\n",
       "      <td>3.0</td>\n",
       "    </tr>\n",
       "    <tr>\n",
       "      <th>3</th>\n",
       "      <td>1</td>\n",
       "      <td>405</td>\n",
       "      <td>260.0</td>\n",
       "      <td>38.0</td>\n",
       "      <td>5.0</td>\n",
       "    </tr>\n",
       "    <tr>\n",
       "      <th>4</th>\n",
       "      <td>0</td>\n",
       "      <td>407</td>\n",
       "      <td>378.0</td>\n",
       "      <td>60.0</td>\n",
       "      <td>4.0</td>\n",
       "    </tr>\n",
       "  </tbody>\n",
       "</table>\n",
       "</div>"
      ],
      "text/plain": [
       "   injury  game_workload  groin_squeeze  hip_mobility  rest_period\n",
       "0       0            402          284.0          35.0          4.0\n",
       "1       0            365          250.0          41.0          3.0\n",
       "2       1            457          331.0          33.0          3.0\n",
       "3       1            405          260.0          38.0          5.0\n",
       "4       0            407          378.0          60.0          4.0"
      ]
     },
     "execution_count": 42,
     "metadata": {},
     "output_type": "execute_result"
    }
   ],
   "source": [
    "ready_data.head()"
   ]
  },
  {
   "cell_type": "code",
   "execution_count": 43,
   "metadata": {},
   "outputs": [],
   "source": [
    "# Saving final  data\n",
    "ready_data.to_csv('final_data.csv', index=False)"
   ]
  },
  {
   "cell_type": "code",
   "execution_count": 44,
   "metadata": {},
   "outputs": [],
   "source": [
    "\"\"\"Assiging the dependent variable (0 0r 1 to be predicted as class)\"\"\"\n",
    "y = ready_data.loc[:,'injury'].values"
   ]
  },
  {
   "cell_type": "code",
   "execution_count": 45,
   "metadata": {},
   "outputs": [],
   "source": [
    "\"\"\"required for stats model only\"\"\"\n",
    "y = y.reshape(-1,1)"
   ]
  },
  {
   "cell_type": "code",
   "execution_count": 46,
   "metadata": {},
   "outputs": [
    {
     "data": {
      "text/plain": [
       "(2400, 1)"
      ]
     },
     "execution_count": 46,
     "metadata": {},
     "output_type": "execute_result"
    }
   ],
   "source": [
    "y.shape"
   ]
  },
  {
   "cell_type": "code",
   "execution_count": 47,
   "metadata": {},
   "outputs": [],
   "source": [
    "X = ready_data.iloc[:, 1:35 ].values"
   ]
  },
  {
   "cell_type": "code",
   "execution_count": 48,
   "metadata": {},
   "outputs": [
    {
     "data": {
      "text/plain": [
       "(2400, 4)"
      ]
     },
     "execution_count": 48,
     "metadata": {},
     "output_type": "execute_result"
    }
   ],
   "source": [
    "X.shape"
   ]
  },
  {
   "cell_type": "code",
   "execution_count": 49,
   "metadata": {},
   "outputs": [
    {
     "name": "stdout",
     "output_type": "stream",
     "text": [
      "Optimization terminated successfully.\n",
      "         Current function value: 0.210818\n",
      "         Iterations 8\n",
      "                         Results: Logit\n",
      "=================================================================\n",
      "Model:              Logit            Method:           MLE       \n",
      "Dependent Variable: y                Pseudo R-squared: 0.037     \n",
      "Date:               2024-11-19 22:19 AIC:              1019.9250 \n",
      "No. Observations:   2400             BIC:              1043.0579 \n",
      "Df Model:           3                Log-Likelihood:   -505.96   \n",
      "Df Residuals:       2396             LL-Null:          -525.28   \n",
      "Converged:          1.0000           LLR p-value:      2.0789e-08\n",
      "No. Iterations:     8.0000           Scale:            1.0000    \n",
      "--------------------------------------------------------------------\n",
      "       Coef.     Std.Err.       z       P>|z|      [0.025     0.975]\n",
      "--------------------------------------------------------------------\n",
      "x1    -0.0048      0.0009    -5.2413    0.0000    -0.0066    -0.0030\n",
      "x2     0.0010      0.0009     1.0976    0.2724    -0.0008     0.0028\n",
      "x3    -0.0097      0.0079    -1.2188    0.2229    -0.0252     0.0059\n",
      "x4    -0.1085      0.0192    -5.6577    0.0000    -0.1460    -0.0709\n",
      "=================================================================\n",
      "\n"
     ]
    }
   ],
   "source": [
    "\"\"\"Applying Logistic Regression model to identify the impacting variables using Maximum Liklehood and P-values\"\"\"\n",
    "import statsmodels.api as sm\n",
    "logit_model=sm.Logit(y,X)\n",
    "result=logit_model.fit()\n",
    "print(result.summary2())"
   ]
  },
  {
   "cell_type": "code",
   "execution_count": 50,
   "metadata": {},
   "outputs": [
    {
     "name": "stdout",
     "output_type": "stream",
     "text": [
      "                        Results: Ordinary least squares\n",
      "===============================================================================\n",
      "Model:                  OLS              Adj. R-squared (uncentered): 0.067    \n",
      "Dependent Variable:     y                AIC:                         -223.6837\n",
      "Date:                   2024-11-19 22:19 BIC:                         -200.5508\n",
      "No. Observations:       2400             Log-Likelihood:              115.84   \n",
      "Df Model:               4                F-statistic:                 44.18    \n",
      "Df Residuals:           2396             Prob (F-statistic):          7.81e-36 \n",
      "R-squared (uncentered): 0.069            Scale:                       0.053251 \n",
      "------------------------------------------------------------------------------------\n",
      "             Coef.       Std.Err.         t         P>|t|        [0.025       0.975]\n",
      "------------------------------------------------------------------------------------\n",
      "x1           0.0001        0.0000       2.2428      0.0250       0.0000       0.0002\n",
      "x2           0.0001        0.0000       2.2406      0.0251       0.0000       0.0002\n",
      "x3           0.0004        0.0004       0.8797      0.3791      -0.0005       0.0012\n",
      "x4          -0.0028        0.0005      -5.3195      0.0000      -0.0038      -0.0018\n",
      "-------------------------------------------------------------------------------\n",
      "Omnibus:                 1813.513          Durbin-Watson:             1.983    \n",
      "Prob(Omnibus):           0.000             Jarque-Bera (JB):          20434.391\n",
      "Skew:                    3.736             Prob(JB):                  0.000    \n",
      "Kurtosis:                15.187            Condition No.:             52       \n",
      "===============================================================================\n",
      "Notes:\n",
      "[1] R² is computed without centering (uncentered) since the\n",
      "model does not contain a constant.\n",
      "[2] Standard Errors assume that the covariance matrix of the errors is\n",
      "correctly specified.\n"
     ]
    }
   ],
   "source": [
    "\"\"\"Applying ststs model to identify the impacting variables using ordinary Leasts square method for p-value\"\"\"\n",
    "import statsmodels.api as sm\n",
    "logit_model=sm.OLS(y,X)\n",
    "result=logit_model.fit()\n",
    "print(result.summary2())"
   ]
  },
  {
   "cell_type": "markdown",
   "metadata": {},
   "source": [
    "<h2>Balancing the classes in the dataset</h2>"
   ]
  },
  {
   "cell_type": "code",
   "execution_count": 51,
   "metadata": {},
   "outputs": [
    {
     "data": {
      "text/plain": [
       "'From exploratory data analysis we know that there are only 137 injured cases out of 2400.\\nTherefore, we will use over sampling technique to increase the injured cases \\nand hence bringing the balance between both the categoreies in the dataset'"
      ]
     },
     "execution_count": 51,
     "metadata": {},
     "output_type": "execute_result"
    }
   ],
   "source": [
    "\"\"\"From exploratory data analysis we know that there are only 137 injured cases out of 2400.\n",
    "Therefore, we will use over sampling technique to increase the injured cases \n",
    "and hence bringing the balance between both the categoreies in the dataset\"\"\""
   ]
  },
  {
   "cell_type": "code",
   "execution_count": 52,
   "metadata": {},
   "outputs": [
    {
     "data": {
      "text/plain": [
       "Text(0, 0.5, 'Resting_days')"
      ]
     },
     "execution_count": 52,
     "metadata": {},
     "output_type": "execute_result"
    },
    {
     "data": {
      "image/png": "[encoded data removed]",
      "text/plain": [
       "<Figure size 640x480 with 1 Axes>"
      ]
     },
     "metadata": {},
     "output_type": "display_data"
    }
   ],
   "source": [
    "\"\"\"Visualising the data in form of number of cases in each class\"\"\"\n",
    "plt.scatter(ready_data['game_workload'], ready_data['rest_period'],\n",
    "            alpha=0.5, c=ready_data.injury, cmap='viridis', label = np.unique(ready_data.injury))\n",
    "plt.xlabel(\"game_workload\")\n",
    "plt.ylabel(\"Resting_days\")"
   ]
  },
  {
   "cell_type": "code",
   "execution_count": 63,
   "metadata": {},
   "outputs": [],
   "source": [
    "\"\"\"Applying oversampling technique using Synthetic Minority Oversampling Technique\"\"\"\n",
    "from collections import Counter\n",
    "from sklearn.datasets import make_classification\n",
    "from imblearn.over_sampling import SMOTE\n",
    "oversample = SMOTE()\n",
    "X_new, y_new = oversample.fit_resample(X, y)\n",
    "# X_new=X\n",
    "# y_new=y"
   ]
  },
  {
   "cell_type": "code",
   "execution_count": 64,
   "metadata": {},
   "outputs": [
    {
     "data": {
      "text/plain": [
       "(4526, 4)"
      ]
     },
     "execution_count": 64,
     "metadata": {},
     "output_type": "execute_result"
    }
   ],
   "source": [
    "X_new.shape"
   ]
  },
  {
   "cell_type": "code",
   "execution_count": 65,
   "metadata": {},
   "outputs": [
    {
     "data": {
      "text/plain": [
       "Text(0, 0.5, 'Resting_days')"
      ]
     },
     "execution_count": 65,
     "metadata": {},
     "output_type": "execute_result"
    },
    {
     "data": {
      "image/png": "[encoded data removed]",
      "text/plain": [
       "<Figure size 640x480 with 1 Axes>"
      ]
     },
     "metadata": {},
     "output_type": "display_data"
    }
   ],
   "source": [
    "\"\"\"plotting the classes after over sampling the minority class\"\"\"\n",
    "plt.scatter(X_new[:,0], X_new[:,3],\n",
    "            alpha=0.5, c=y_new, cmap='viridis', label = np.unique(ready_data.injury))\n",
    "plt.xlabel(\"game_workload\")\n",
    "plt.ylabel(\"Resting_days\")"
   ]
  },
  {
   "cell_type": "code",
   "execution_count": 66,
   "metadata": {},
   "outputs": [
    {
     "name": "stdout",
     "output_type": "stream",
     "text": [
      "Optimization terminated successfully.\n",
      "         Current function value: 0.634217\n",
      "         Iterations 6\n",
      "                          Results: Logit\n",
      "==================================================================\n",
      "Model:              Logit            Method:           MLE        \n",
      "Dependent Variable: y                Pseudo R-squared: 0.085      \n",
      "Date:               2024-11-19 22:20 AIC:              5748.9308  \n",
      "No. Observations:   4526             BIC:              5774.6011  \n",
      "Df Model:           3                Log-Likelihood:   -2870.5    \n",
      "Df Residuals:       4522             LL-Null:          -3137.2    \n",
      "Converged:          1.0000           LLR p-value:      2.7028e-115\n",
      "No. Iterations:     6.0000           Scale:            1.0000     \n",
      "---------------------------------------------------------------------\n",
      "       Coef.     Std.Err.       z        P>|z|      [0.025     0.975]\n",
      "---------------------------------------------------------------------\n",
      "x1     0.0006      0.0003      1.7538    0.0795    -0.0001     0.0013\n",
      "x2     0.0022      0.0003      6.4362    0.0000     0.0015     0.0029\n",
      "x3     0.0017      0.0031      0.5312    0.5953    -0.0045     0.0078\n",
      "x4    -0.1221      0.0066    -18.5980    0.0000    -0.1350    -0.1093\n",
      "==================================================================\n",
      "\n"
     ]
    }
   ],
   "source": [
    "\"\"\"Applying ststs model to identify the impacting variables after balancing the classes\"\"\"\n",
    "import statsmodels.api as sm\n",
    "logit_model=sm.Logit(y_new,X_new)\n",
    "result=logit_model.fit()\n",
    "print(result.summary2())"
   ]
  },
  {
   "cell_type": "code",
   "execution_count": 67,
   "metadata": {},
   "outputs": [
    {
     "name": "stdout",
     "output_type": "stream",
     "text": [
      "                        Results: Ordinary least squares\n",
      "===============================================================================\n",
      "Model:                  OLS              Adj. R-squared (uncentered): 0.542    \n",
      "Dependent Variable:     y                AIC:                         6180.3802\n",
      "Date:                   2024-11-19 22:20 BIC:                         6206.0506\n",
      "No. Observations:       4526             Log-Likelihood:              -3086.2  \n",
      "Df Model:               4                F-statistic:                 1338.    \n",
      "Df Residuals:           4522             Prob (F-statistic):          0.00     \n",
      "R-squared (uncentered): 0.542            Scale:                       0.22918  \n",
      "------------------------------------------------------------------------------------\n",
      "            Coef.       Std.Err.         t          P>|t|        [0.025       0.975]\n",
      "------------------------------------------------------------------------------------\n",
      "x1          0.0010        0.0001       12.6420      0.0000       0.0008       0.0011\n",
      "x2          0.0006        0.0001        8.4737      0.0000       0.0005       0.0008\n",
      "x3          0.0025        0.0007        3.4787      0.0005       0.0011       0.0039\n",
      "x4         -0.0200        0.0010      -20.4893      0.0000      -0.0219      -0.0181\n",
      "-------------------------------------------------------------------------------\n",
      "Omnibus:                  19870.800          Durbin-Watson:             0.416  \n",
      "Prob(Omnibus):            0.000              Jarque-Bera (JB):          557.476\n",
      "Skew:                     -0.113             Prob(JB):                  0.000  \n",
      "Kurtosis:                 1.296              Condition No.:             63     \n",
      "===============================================================================\n",
      "Notes:\n",
      "[1] R² is computed without centering (uncentered) since the\n",
      "model does not contain a constant.\n",
      "[2] Standard Errors assume that the covariance matrix of the errors is\n",
      "correctly specified.\n"
     ]
    }
   ],
   "source": [
    "\"\"\"Applying ststs model to identify the impacting variables using ordinary Least square method\"\"\"\n",
    "import statsmodels.api as sm\n",
    "logit_model=sm.OLS(y_new,X_new)\n",
    "result=logit_model.fit()\n",
    "print(result.summary2())"
   ]
  },
  {
   "cell_type": "markdown",
   "metadata": {},
   "source": [
    "<h2>Building a classifier</h2>"
   ]
  },
  {
   "cell_type": "code",
   "execution_count": 68,
   "metadata": {},
   "outputs": [],
   "source": [
    "from sklearn.model_selection import train_test_split\n",
    "from sklearn.metrics import confusion_matrix\n",
    "from sklearn.metrics import classification_report\n",
    "X_train, X_test, y_train, y_test = train_test_split(X_new, y_new, test_size=0.3, random_state=0)"
   ]
  },
  {
   "cell_type": "code",
   "execution_count": 73,
   "metadata": {},
   "outputs": [
    {
     "name": "stdout",
     "output_type": "stream",
     "text": [
      "Accuracy of logistic regression classifier on test set: 0.64\n",
      "[[353 340]\n",
      " [152 513]]\n",
      "              precision    recall  f1-score   support\n",
      "\n",
      "           0       0.70      0.51      0.59       693\n",
      "           1       0.60      0.77      0.68       665\n",
      "\n",
      "    accuracy                           0.64      1358\n",
      "   macro avg       0.65      0.64      0.63      1358\n",
      "weighted avg       0.65      0.64      0.63      1358\n",
      "\n"
     ]
    },
    {
     "data": {
      "image/png": "[encoded data removed]",
      "text/plain": [
       "<Figure size 800x600 with 2 Axes>"
      ]
     },
     "metadata": {},
     "output_type": "display_data"
    }
   ],
   "source": [
    "\"\"\"Using Logistic Regression Classifer\"\"\"\n",
    "import seaborn as sns\n",
    "from sklearn.linear_model import LogisticRegression\n",
    "logitic_regressor = LogisticRegression()\n",
    "logitic_regressor.fit(X_train, y_train)\n",
    "y_pred = logitic_regressor.predict(X_test)\n",
    "print('Accuracy of logistic regression classifier on test set: {:.2f}'.format(logitic_regressor.score(X_test, y_test)))\n",
    "from sklearn.metrics import confusion_matrix\n",
    "confusion_matrix = confusion_matrix(y_test, y_pred)\n",
    "print(confusion_matrix)\n",
    "from sklearn.metrics import classification_report\n",
    "print(classification_report(y_test, y_pred))\n",
    "plt.figure(figsize=(8, 6))\n",
    "#plot\n",
    "sns.heatmap(confusion_matrix, annot=True, fmt='d', cmap='Blues', xticklabels=['Predicted 0', 'Predicted 1'], yticklabels=['Actual 0', 'Actual 1'])\n",
    "plt.xlabel('Predicted Label')\n",
    "plt.ylabel('True Label')\n",
    "plt.title('Confusion Matrix Heatmap')\n",
    "plt.show()"
   ]
  },
  {
   "cell_type": "code",
   "execution_count": 74,
   "metadata": {},
   "outputs": [
    {
     "name": "stdout",
     "output_type": "stream",
     "text": [
      "Accuracy of Decision Tree classifier on test set: 0.90\n",
      "[[626  67]\n",
      " [ 64 601]]\n",
      "              precision    recall  f1-score   support\n",
      "\n",
      "           0       0.91      0.90      0.91       693\n",
      "           1       0.90      0.90      0.90       665\n",
      "\n",
      "    accuracy                           0.90      1358\n",
      "   macro avg       0.90      0.90      0.90      1358\n",
      "weighted avg       0.90      0.90      0.90      1358\n",
      "\n"
     ]
    },
    {
     "data": {
      "image/png": "[encoded data removed]",
      "text/plain": [
       "<Figure size 640x480 with 2 Axes>"
      ]
     },
     "metadata": {},
     "output_type": "display_data"
    }
   ],
   "source": [
    "\"\"\"Using Decision Tree Classifer\"\"\"\n",
    "from sklearn.tree import DecisionTreeClassifier\n",
    "dt = DecisionTreeClassifier()\n",
    "dt.fit(X_train, y_train)\n",
    "y_pred = dt.predict(X_test)\n",
    "print('Accuracy of Decision Tree classifier on test set: {:.2f}'.format(dt.score(X_test, y_test)))\n",
    "from sklearn.metrics import confusion_matrix\n",
    "confusion_matrix = confusion_matrix(y_test, y_pred)\n",
    "print(confusion_matrix)\n",
    "print(classification_report(y_test, y_pred))\n",
    "#plot\n",
    "sns.heatmap(confusion_matrix, annot=True, fmt='d', cmap='Blues', xticklabels=['Predicted 0', 'Predicted 1'], yticklabels=['Actual 0', 'Actual 1'])\n",
    "plt.xlabel('Predicted Label')\n",
    "plt.ylabel('True Label')\n",
    "plt.title('Confusion Matrix Heatmap')\n",
    "plt.show()"
   ]
  },
  {
   "cell_type": "code",
   "execution_count": 75,
   "metadata": {},
   "outputs": [
    {
     "name": "stdout",
     "output_type": "stream",
     "text": [
      "Accuracy of Knn classifier on test set: 0.85\n",
      "[[510 183]\n",
      " [ 25 640]]\n",
      "              precision    recall  f1-score   support\n",
      "\n",
      "           0       0.95      0.74      0.83       693\n",
      "           1       0.78      0.96      0.86       665\n",
      "\n",
      "    accuracy                           0.85      1358\n",
      "   macro avg       0.87      0.85      0.85      1358\n",
      "weighted avg       0.87      0.85      0.85      1358\n",
      "\n"
     ]
    },
    {
     "data": {
      "image/png": "[encoded data removed]",
      "text/plain": [
       "<Figure size 640x480 with 2 Axes>"
      ]
     },
     "metadata": {},
     "output_type": "display_data"
    }
   ],
   "source": [
    "\"\"\"Using KNN Classifer\"\"\"\n",
    "from sklearn.neighbors import KNeighborsClassifier\n",
    "knn = KNeighborsClassifier(n_neighbors=3)\n",
    "knn.fit(X_train, y_train)\n",
    "y_pred = knn.predict(X_test)\n",
    "print('Accuracy of Knn classifier on test set: {:.2f}'.format(knn.score(X_test, y_test)))\n",
    "from sklearn.metrics import confusion_matrix\n",
    "confusion_matrix = confusion_matrix(y_test, y_pred)\n",
    "print(confusion_matrix)\n",
    "from sklearn.metrics import classification_report\n",
    "print(classification_report(y_test, y_pred))\n",
    "#\n",
    "sns.heatmap(confusion_matrix, annot=True, fmt='d', cmap='Blues', xticklabels=['Predicted 0', 'Predicted 1'], yticklabels=['Actual 0', 'Actual 1'])\n",
    "plt.xlabel('Predicted Label')\n",
    "plt.ylabel('True Label')\n",
    "plt.title('Confusion Matrix Heatmap')\n",
    "plt.show()"
   ]
  },
  {
   "cell_type": "code",
   "execution_count": 76,
   "metadata": {},
   "outputs": [
    {
     "name": "stdout",
     "output_type": "stream",
     "text": [
      "Accuracy of Support Vector classifier on test set: 0.86\n",
      "[[689   4]\n",
      " [190 475]]\n",
      "              precision    recall  f1-score   support\n",
      "\n",
      "           0       0.78      0.99      0.88       693\n",
      "           1       0.99      0.71      0.83       665\n",
      "\n",
      "    accuracy                           0.86      1358\n",
      "   macro avg       0.89      0.85      0.85      1358\n",
      "weighted avg       0.89      0.86      0.85      1358\n",
      "\n"
     ]
    },
    {
     "data": {
      "image/png": "[encoded data removed]",
      "text/plain": [
       "<Figure size 640x480 with 2 Axes>"
      ]
     },
     "metadata": {},
     "output_type": "display_data"
    }
   ],
   "source": [
    "\"\"\"Using Support Vector Classifer\"\"\"\n",
    "from sklearn.svm import SVC\n",
    "svm_classifier = SVC(gamma='auto')\n",
    "svm_classifier.fit(X_train, y_train)\n",
    "y_pred = svm_classifier.predict(X_test)\n",
    "print('Accuracy of Support Vector classifier on test set: {:.2f}'.format(svm_classifier.score(X_test, y_test)))\n",
    "from sklearn.metrics import confusion_matrix\n",
    "confusion_matrix = confusion_matrix(y_test, y_pred)\n",
    "print(confusion_matrix)\n",
    "from sklearn.metrics import classification_report\n",
    "print(classification_report(y_test, y_pred))\n",
    "#plot\n",
    "sns.heatmap(confusion_matrix, annot=True, fmt='d', cmap='Blues', xticklabels=['Predicted 0', 'Predicted 1'], yticklabels=['Actual 0', 'Actual 1'])\n",
    "plt.xlabel('Predicted Label')\n",
    "plt.ylabel('True Label')\n",
    "plt.title('Confusion Matrix Heatmap')\n",
    "plt.show()"
   ]
  },
  {
   "cell_type": "markdown",
   "metadata": {},
   "source": []
  },
  {
   "cell_type": "code",
   "execution_count": null,
   "metadata": {},
   "outputs": [],
   "source": []
  },
  {
   "cell_type": "code",
   "execution_count": null,
   "metadata": {},
   "outputs": [],
   "source": []
  },
  {
   "cell_type": "code",
   "execution_count": null,
   "metadata": {},
   "outputs": [],
   "source": []
  }
 ],
 "metadata": {
  "kernelspec": {
   "display_name": "Python 3 (ipykernel)",
   "language": "python",
   "name": "python3"
  },
  "language_info": {
   "codemirror_mode": {
    "name": "ipython",
    "version": 3
   },
   "file_extension": ".py",
   "mimetype": "text/x-python",
   "name": "python",
   "nbconvert_exporter": "python",
   "pygments_lexer": "ipython3",
   "version": "3.12.4"
  }
 },
 "nbformat": 4,
 "nbformat_minor": 4
}
